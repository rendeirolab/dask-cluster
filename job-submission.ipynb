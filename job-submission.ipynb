{
 "cells": [
  {
   "cell_type": "markdown",
   "id": "85634b8e-bd06-46c5-8437-86de1830dd2c",
   "metadata": {},
   "source": [
    "# Dask parallel across slurm cluster"
   ]
  },
  {
   "cell_type": "markdown",
   "id": "c817c9c2-3073-43f8-94ae-7ae540c0545d",
   "metadata": {},
   "source": [
    "## Submit CPU jobs\n",
    "\n",
    "Here we first inititate a slurm profile of job profile that we want. Each job will have 4 cores and 20GB of memory."
   ]
  },
  {
   "cell_type": "code",
   "execution_count": 1,
   "id": "2d52bb5f-4a74-44b7-abf4-538eea978a16",
   "metadata": {},
   "outputs": [],
   "source": [
    "from dask_jobqueue import SLURMCluster\n",
    "\n",
    "cluster = SLURMCluster(\n",
    "    queue='tinyq',\n",
    "    cores=4,\n",
    "    memory=\"20 GB\",\n",
    "    job_extra_directives=[\"-q tinyq\"]\n",
    ")"
   ]
  },
  {
   "cell_type": "markdown",
   "id": "0c2eb62f-15a2-4929-ba6e-105973fe5f14",
   "metadata": {},
   "source": [
    "We can inspect the job script"
   ]
  },
  {
   "cell_type": "code",
   "execution_count": 2,
   "id": "68d2bc5b-6358-4577-82aa-cfedbd9b2a5b",
   "metadata": {},
   "outputs": [
    {
     "name": "stdout",
     "output_type": "stream",
     "text": [
      "#!/usr/bin/env bash\n",
      "\n",
      "#SBATCH -J dask-worker\n",
      "#SBATCH -p tinyq\n",
      "#SBATCH -n 1\n",
      "#SBATCH --cpus-per-task=4\n",
      "#SBATCH --mem=19G\n",
      "#SBATCH -t 00:30:00\n",
      "#SBATCH -q tinyq\n",
      "\n",
      "/home/yzheng/.cache/uv/archive-v0/fi_ii00GnZedQflf_x7Hx/bin/python -m distributed.cli.dask_worker tcp://10.110.81.3:40125 --name dummy-name --nthreads 1 --memory-limit 4.66GiB --nworkers 4 --nanny --death-timeout 60\n",
      "\n"
     ]
    }
   ],
   "source": [
    "print(cluster.job_script())"
   ]
  },
  {
   "cell_type": "markdown",
   "id": "c95bd4a8-053d-4e1c-a610-01af925dda82",
   "metadata": {},
   "source": [
    "Now we need to assign the cluster profile to a client which handles the job scheduling."
   ]
  },
  {
   "cell_type": "code",
   "execution_count": 3,
   "id": "35b03b3a-6273-4869-b3c9-bdb96d541d5b",
   "metadata": {},
   "outputs": [],
   "source": [
    "from dask.distributed import Client\n",
    "client = Client(cluster)"
   ]
  },
  {
   "cell_type": "code",
   "execution_count": 4,
   "id": "f351816c-cb85-451f-a040-d13a580fe319",
   "metadata": {},
   "outputs": [
    {
     "data": {
      "text/html": [
       "<div>\n",
       "    <div style=\"width: 24px; height: 24px; background-color: #e1e1e1; border: 3px solid #9D9D9D; border-radius: 5px; position: absolute;\"> </div>\n",
       "    <div style=\"margin-left: 48px;\">\n",
       "        <h3 style=\"margin-bottom: 0px;\">Client</h3>\n",
       "        <p style=\"color: #9D9D9D; margin-bottom: 0px;\">Client-bd18ae11-0422-11f0-b15f-499b0c558349</p>\n",
       "        <table style=\"width: 100%; text-align: left;\">\n",
       "\n",
       "        <tr>\n",
       "        \n",
       "            <td style=\"text-align: left;\"><strong>Connection method:</strong> Cluster object</td>\n",
       "            <td style=\"text-align: left;\"><strong>Cluster type:</strong> dask_jobqueue.SLURMCluster</td>\n",
       "        \n",
       "        </tr>\n",
       "\n",
       "        \n",
       "            <tr>\n",
       "                <td style=\"text-align: left;\">\n",
       "                    <strong>Dashboard: </strong> <a href=\"http://10.110.81.3:8787/status\" target=\"_blank\">http://10.110.81.3:8787/status</a>\n",
       "                </td>\n",
       "                <td style=\"text-align: left;\"></td>\n",
       "            </tr>\n",
       "        \n",
       "\n",
       "        </table>\n",
       "\n",
       "        \n",
       "\n",
       "        \n",
       "            <details>\n",
       "            <summary style=\"margin-bottom: 20px;\"><h3 style=\"display: inline;\">Cluster Info</h3></summary>\n",
       "            <div class=\"jp-RenderedHTMLCommon jp-RenderedHTML jp-mod-trusted jp-OutputArea-output\">\n",
       "    <div style=\"width: 24px; height: 24px; background-color: #e1e1e1; border: 3px solid #9D9D9D; border-radius: 5px; position: absolute;\">\n",
       "    </div>\n",
       "    <div style=\"margin-left: 48px;\">\n",
       "        <h3 style=\"margin-bottom: 0px; margin-top: 0px;\">SLURMCluster</h3>\n",
       "        <p style=\"color: #9D9D9D; margin-bottom: 0px;\">f1319d58</p>\n",
       "        <table style=\"width: 100%; text-align: left;\">\n",
       "            <tr>\n",
       "                <td style=\"text-align: left;\">\n",
       "                    <strong>Dashboard:</strong> <a href=\"http://10.110.81.3:8787/status\" target=\"_blank\">http://10.110.81.3:8787/status</a>\n",
       "                </td>\n",
       "                <td style=\"text-align: left;\">\n",
       "                    <strong>Workers:</strong> 0\n",
       "                </td>\n",
       "            </tr>\n",
       "            <tr>\n",
       "                <td style=\"text-align: left;\">\n",
       "                    <strong>Total threads:</strong> 0\n",
       "                </td>\n",
       "                <td style=\"text-align: left;\">\n",
       "                    <strong>Total memory:</strong> 0 B\n",
       "                </td>\n",
       "            </tr>\n",
       "            \n",
       "        </table>\n",
       "\n",
       "        <details>\n",
       "            <summary style=\"margin-bottom: 20px;\">\n",
       "                <h3 style=\"display: inline;\">Scheduler Info</h3>\n",
       "            </summary>\n",
       "\n",
       "            <div style=\"\">\n",
       "    <div>\n",
       "        <div style=\"width: 24px; height: 24px; background-color: #FFF7E5; border: 3px solid #FF6132; border-radius: 5px; position: absolute;\"> </div>\n",
       "        <div style=\"margin-left: 48px;\">\n",
       "            <h3 style=\"margin-bottom: 0px;\">Scheduler</h3>\n",
       "            <p style=\"color: #9D9D9D; margin-bottom: 0px;\">Scheduler-336a5ee9-1420-4067-a75f-a2a969dd0eff</p>\n",
       "            <table style=\"width: 100%; text-align: left;\">\n",
       "                <tr>\n",
       "                    <td style=\"text-align: left;\">\n",
       "                        <strong>Comm:</strong> tcp://10.110.81.3:40125\n",
       "                    </td>\n",
       "                    <td style=\"text-align: left;\">\n",
       "                        <strong>Workers:</strong> 0\n",
       "                    </td>\n",
       "                </tr>\n",
       "                <tr>\n",
       "                    <td style=\"text-align: left;\">\n",
       "                        <strong>Dashboard:</strong> <a href=\"http://10.110.81.3:8787/status\" target=\"_blank\">http://10.110.81.3:8787/status</a>\n",
       "                    </td>\n",
       "                    <td style=\"text-align: left;\">\n",
       "                        <strong>Total threads:</strong> 0\n",
       "                    </td>\n",
       "                </tr>\n",
       "                <tr>\n",
       "                    <td style=\"text-align: left;\">\n",
       "                        <strong>Started:</strong> Just now\n",
       "                    </td>\n",
       "                    <td style=\"text-align: left;\">\n",
       "                        <strong>Total memory:</strong> 0 B\n",
       "                    </td>\n",
       "                </tr>\n",
       "            </table>\n",
       "        </div>\n",
       "    </div>\n",
       "\n",
       "    <details style=\"margin-left: 48px;\">\n",
       "        <summary style=\"margin-bottom: 20px;\">\n",
       "            <h3 style=\"display: inline;\">Workers</h3>\n",
       "        </summary>\n",
       "\n",
       "        \n",
       "\n",
       "    </details>\n",
       "</div>\n",
       "\n",
       "        </details>\n",
       "    </div>\n",
       "</div>\n",
       "            </details>\n",
       "        \n",
       "\n",
       "    </div>\n",
       "</div>"
      ],
      "text/plain": [
       "<Client: 'tcp://10.110.81.3:40125' processes=0 threads=0, memory=0 B>"
      ]
     },
     "execution_count": 4,
     "metadata": {},
     "output_type": "execute_result"
    }
   ],
   "source": [
    "client"
   ]
  },
  {
   "cell_type": "markdown",
   "id": "ac01c9da-7bbb-47d4-8f41-c56efc9c2cd6",
   "metadata": {},
   "source": [
    "Notice that we only have one job interactiveq for now"
   ]
  },
  {
   "cell_type": "code",
   "execution_count": 5,
   "id": "c251d13d-88e7-463f-86c2-a7bc94c69fb1",
   "metadata": {},
   "outputs": [
    {
     "name": "stdout",
     "output_type": "stream",
     "text": [
      "             JOBID PARTITION     NAME     USER ST       TIME  NODES NODELIST(REASON)\n",
      "           8856497 interacti     bash   yzheng  R      12:20      1 d003\n"
     ]
    }
   ],
   "source": [
    "!squeue -u yzheng"
   ]
  },
  {
   "cell_type": "markdown",
   "id": "33de9c8d-0136-432d-bbf0-4a91f2c32889",
   "metadata": {},
   "source": [
    "We can specifically request for tow jobs"
   ]
  },
  {
   "cell_type": "code",
   "execution_count": 11,
   "id": "d22009f2-921e-40be-aed5-b9d771415766",
   "metadata": {},
   "outputs": [],
   "source": [
    "cluster.scale(10)  # ask for 10 jobs"
   ]
  },
  {
   "cell_type": "code",
   "execution_count": 7,
   "id": "82357bd8-61a9-4890-8f96-e3b0e280e848",
   "metadata": {},
   "outputs": [
    {
     "data": {
      "text/plain": [
       "<distributed.deploy.adaptive.Adaptive at 0x15551dd1b770>"
      ]
     },
     "execution_count": 7,
     "metadata": {},
     "output_type": "execute_result"
    }
   ],
   "source": [
    "# cluster.adapt(maximum_job=10) # or be flexible, ask for maximum 10 jobs"
   ]
  },
  {
   "cell_type": "markdown",
   "id": "b32f09d5-9981-4353-8a43-13cdece2f2c3",
   "metadata": {},
   "source": [
    "Let's create a simple function and distributed it across machines."
   ]
  },
  {
   "cell_type": "code",
   "execution_count": 17,
   "id": "65f6bfd1-d6e8-4ec8-bab4-0e0c657acb1d",
   "metadata": {},
   "outputs": [],
   "source": [
    "import time\n",
    "import numpy as np\n",
    "\n",
    "def long_job(seed):\n",
    "    rng = np.random.default_rng(seed)\n",
    "    return rng.random(10)"
   ]
  },
  {
   "cell_type": "code",
   "execution_count": 18,
   "id": "f576f8ec-5aed-47cb-bc71-b8dbde8c5006",
   "metadata": {},
   "outputs": [],
   "source": [
    "futures = []\n",
    "for seed in range(10):\n",
    "    future = client.submit(long_job, seed)\n",
    "    futures.append(future)"
   ]
  },
  {
   "cell_type": "code",
   "execution_count": 27,
   "id": "667320d1-6b2e-4a60-a8ff-4519317c8205",
   "metadata": {},
   "outputs": [
    {
     "name": "stdout",
     "output_type": "stream",
     "text": [
      "             JOBID PARTITION     NAME     USER ST       TIME  NODES NODELIST(REASON)\n",
      "           8856497 interacti     bash   yzheng  R      14:03      1 d003\n",
      "           8856572     tinyq dask-wor   yzheng PD       0:00      1 (Priority)\n"
     ]
    }
   ],
   "source": [
    "!squeue -u yzheng"
   ]
  },
  {
   "cell_type": "code",
   "execution_count": 24,
   "id": "fe03e2b2-4092-4bdf-8a4d-23116190b896",
   "metadata": {},
   "outputs": [
    {
     "data": {
      "text/html": [
       "<strong>Future: long_job</strong>\n",
       "<span style=\"color: var(--jp-ui-font-color2, gray)\"> status: </span>\n",
       "\n",
       "\n",
       "<span style=\"color: var(--jp-error-color0, black)\">pending</span>,\n",
       "\n",
       "\n",
       "\n",
       "<span style=\"color: var(--jp-ui-font-color2, gray)\"> type:</span> NoneType,\n",
       "\n",
       "\n",
       "<span style=\"color: var(--jp-ui-font-color2, gray)\"> key:</span> long_job-2b371ddfcbcb3d4eb0cf8ce673f75bc6"
      ],
      "text/plain": [
       "<Future: pending, key: long_job-2b371ddfcbcb3d4eb0cf8ce673f75bc6>"
      ]
     },
     "execution_count": 24,
     "metadata": {},
     "output_type": "execute_result"
    }
   ],
   "source": [
    "futures[0]"
   ]
  },
  {
   "cell_type": "markdown",
   "id": "2cf2c0a7-91a0-4603-a539-0016b24d8faf",
   "metadata": {},
   "source": [
    "To get the result back"
   ]
  },
  {
   "cell_type": "code",
   "execution_count": 30,
   "id": "e360df5e-85b4-402a-a877-8abca78060b3",
   "metadata": {},
   "outputs": [
    {
     "data": {
      "text/plain": [
       "array([0.63696169, 0.26978671, 0.04097352, 0.01652764, 0.81327024,\n",
       "       0.91275558, 0.60663578, 0.72949656, 0.54362499, 0.93507242])"
      ]
     },
     "execution_count": 30,
     "metadata": {},
     "output_type": "execute_result"
    }
   ],
   "source": [
    "futures[0].result()"
   ]
  },
  {
   "cell_type": "markdown",
   "id": "75d6822b-1577-4e00-be15-15e7f9345b45",
   "metadata": {},
   "source": [
    "Now the status of the future becomes finished"
   ]
  },
  {
   "cell_type": "code",
   "execution_count": 31,
   "id": "3b06d5ea-4325-485f-9c73-96c7fb2d7240",
   "metadata": {},
   "outputs": [
    {
     "data": {
      "text/html": [
       "<strong>Future: long_job</strong>\n",
       "<span style=\"color: var(--jp-ui-font-color2, gray)\"> status: </span>\n",
       "\n",
       "\n",
       "<span style=\"color: var(--jp-error-color0, black)\">finished</span>,\n",
       "\n",
       "\n",
       "\n",
       "<span style=\"color: var(--jp-ui-font-color2, gray)\"> type:</span> numpy.ndarray,\n",
       "\n",
       "\n",
       "<span style=\"color: var(--jp-ui-font-color2, gray)\"> key:</span> long_job-2b371ddfcbcb3d4eb0cf8ce673f75bc6"
      ],
      "text/plain": [
       "<Future: finished, type: numpy.ndarray, key: long_job-2b371ddfcbcb3d4eb0cf8ce673f75bc6>"
      ]
     },
     "execution_count": 31,
     "metadata": {},
     "output_type": "execute_result"
    }
   ],
   "source": [
    "futures[0]"
   ]
  },
  {
   "cell_type": "code",
   "execution_count": 32,
   "id": "68f1640b-4cd4-4d6c-ab28-837e499cbefc",
   "metadata": {},
   "outputs": [],
   "source": [
    "client.shutdown()"
   ]
  },
  {
   "cell_type": "markdown",
   "id": "d5daa181-dd88-41d0-90a1-57c610f14f9f",
   "metadata": {},
   "source": [
    "## Submit GPU jobs"
   ]
  },
  {
   "cell_type": "code",
   "execution_count": 1,
   "id": "be8c57fd-6360-47bf-9811-d066df916aed",
   "metadata": {},
   "outputs": [],
   "source": [
    "from dask_jobqueue import SLURMCluster\n",
    "\n",
    "gpu_cluster = SLURMCluster(\n",
    "    queue='gpu',\n",
    "    cores=8,\n",
    "    memory=\"20 GB\",\n",
    "    job_extra_directives=[\"-q gpu\", \"--gres=gpu:h100_1g.12gb:1\"]\n",
    ")"
   ]
  },
  {
   "cell_type": "code",
   "execution_count": 2,
   "id": "f21b1c57-1be8-4050-9c7a-2d18f23c7324",
   "metadata": {},
   "outputs": [],
   "source": [
    "from dask.distributed import Client\n",
    "\n",
    "client = Client(gpu_cluster)"
   ]
  },
  {
   "cell_type": "code",
   "execution_count": 3,
   "id": "0f9ea42d-f997-4d2d-8afb-1bf509dee262",
   "metadata": {},
   "outputs": [
    {
     "data": {
      "text/html": [
       "<div>\n",
       "    <div style=\"width: 24px; height: 24px; background-color: #e1e1e1; border: 3px solid #9D9D9D; border-radius: 5px; position: absolute;\"> </div>\n",
       "    <div style=\"margin-left: 48px;\">\n",
       "        <h3 style=\"margin-bottom: 0px;\">Client</h3>\n",
       "        <p style=\"color: #9D9D9D; margin-bottom: 0px;\">Client-a2289f27-0423-11f0-bf32-97e65586e64e</p>\n",
       "        <table style=\"width: 100%; text-align: left;\">\n",
       "\n",
       "        <tr>\n",
       "        \n",
       "            <td style=\"text-align: left;\"><strong>Connection method:</strong> Cluster object</td>\n",
       "            <td style=\"text-align: left;\"><strong>Cluster type:</strong> dask_jobqueue.SLURMCluster</td>\n",
       "        \n",
       "        </tr>\n",
       "\n",
       "        \n",
       "            <tr>\n",
       "                <td style=\"text-align: left;\">\n",
       "                    <strong>Dashboard: </strong> <a href=\"http://10.110.81.3:8787/status\" target=\"_blank\">http://10.110.81.3:8787/status</a>\n",
       "                </td>\n",
       "                <td style=\"text-align: left;\"></td>\n",
       "            </tr>\n",
       "        \n",
       "\n",
       "        </table>\n",
       "\n",
       "        \n",
       "\n",
       "        \n",
       "            <details>\n",
       "            <summary style=\"margin-bottom: 20px;\"><h3 style=\"display: inline;\">Cluster Info</h3></summary>\n",
       "            <div class=\"jp-RenderedHTMLCommon jp-RenderedHTML jp-mod-trusted jp-OutputArea-output\">\n",
       "    <div style=\"width: 24px; height: 24px; background-color: #e1e1e1; border: 3px solid #9D9D9D; border-radius: 5px; position: absolute;\">\n",
       "    </div>\n",
       "    <div style=\"margin-left: 48px;\">\n",
       "        <h3 style=\"margin-bottom: 0px; margin-top: 0px;\">SLURMCluster</h3>\n",
       "        <p style=\"color: #9D9D9D; margin-bottom: 0px;\">a6ff19a1</p>\n",
       "        <table style=\"width: 100%; text-align: left;\">\n",
       "            <tr>\n",
       "                <td style=\"text-align: left;\">\n",
       "                    <strong>Dashboard:</strong> <a href=\"http://10.110.81.3:8787/status\" target=\"_blank\">http://10.110.81.3:8787/status</a>\n",
       "                </td>\n",
       "                <td style=\"text-align: left;\">\n",
       "                    <strong>Workers:</strong> 0\n",
       "                </td>\n",
       "            </tr>\n",
       "            <tr>\n",
       "                <td style=\"text-align: left;\">\n",
       "                    <strong>Total threads:</strong> 0\n",
       "                </td>\n",
       "                <td style=\"text-align: left;\">\n",
       "                    <strong>Total memory:</strong> 0 B\n",
       "                </td>\n",
       "            </tr>\n",
       "            \n",
       "        </table>\n",
       "\n",
       "        <details>\n",
       "            <summary style=\"margin-bottom: 20px;\">\n",
       "                <h3 style=\"display: inline;\">Scheduler Info</h3>\n",
       "            </summary>\n",
       "\n",
       "            <div style=\"\">\n",
       "    <div>\n",
       "        <div style=\"width: 24px; height: 24px; background-color: #FFF7E5; border: 3px solid #FF6132; border-radius: 5px; position: absolute;\"> </div>\n",
       "        <div style=\"margin-left: 48px;\">\n",
       "            <h3 style=\"margin-bottom: 0px;\">Scheduler</h3>\n",
       "            <p style=\"color: #9D9D9D; margin-bottom: 0px;\">Scheduler-cc188724-a0d8-4c2f-83e8-5a324197dcec</p>\n",
       "            <table style=\"width: 100%; text-align: left;\">\n",
       "                <tr>\n",
       "                    <td style=\"text-align: left;\">\n",
       "                        <strong>Comm:</strong> tcp://10.110.81.3:41483\n",
       "                    </td>\n",
       "                    <td style=\"text-align: left;\">\n",
       "                        <strong>Workers:</strong> 0\n",
       "                    </td>\n",
       "                </tr>\n",
       "                <tr>\n",
       "                    <td style=\"text-align: left;\">\n",
       "                        <strong>Dashboard:</strong> <a href=\"http://10.110.81.3:8787/status\" target=\"_blank\">http://10.110.81.3:8787/status</a>\n",
       "                    </td>\n",
       "                    <td style=\"text-align: left;\">\n",
       "                        <strong>Total threads:</strong> 0\n",
       "                    </td>\n",
       "                </tr>\n",
       "                <tr>\n",
       "                    <td style=\"text-align: left;\">\n",
       "                        <strong>Started:</strong> Just now\n",
       "                    </td>\n",
       "                    <td style=\"text-align: left;\">\n",
       "                        <strong>Total memory:</strong> 0 B\n",
       "                    </td>\n",
       "                </tr>\n",
       "            </table>\n",
       "        </div>\n",
       "    </div>\n",
       "\n",
       "    <details style=\"margin-left: 48px;\">\n",
       "        <summary style=\"margin-bottom: 20px;\">\n",
       "            <h3 style=\"display: inline;\">Workers</h3>\n",
       "        </summary>\n",
       "\n",
       "        \n",
       "\n",
       "    </details>\n",
       "</div>\n",
       "\n",
       "        </details>\n",
       "    </div>\n",
       "</div>\n",
       "            </details>\n",
       "        \n",
       "\n",
       "    </div>\n",
       "</div>"
      ],
      "text/plain": [
       "<Client: 'tcp://10.110.81.3:41483' processes=0 threads=0, memory=0 B>"
      ]
     },
     "execution_count": 3,
     "metadata": {},
     "output_type": "execute_result"
    }
   ],
   "source": [
    "client"
   ]
  },
  {
   "cell_type": "code",
   "execution_count": 8,
   "id": "e9ceadc0-80ea-4022-aca1-f8d777a0cdb2",
   "metadata": {},
   "outputs": [],
   "source": [
    "gpu_cluster.scale(1) # Get a job"
   ]
  },
  {
   "cell_type": "code",
   "execution_count": 9,
   "id": "994dcbe1-04b7-4201-aac8-2d224c35b7ef",
   "metadata": {},
   "outputs": [],
   "source": [
    "import subprocess\n",
    "\n",
    "def inspect_gpu():\n",
    "    return subprocess.run(\"nvidia-smi\", shell=True, capture_output=True)"
   ]
  },
  {
   "cell_type": "markdown",
   "id": "dc1c3e8d-9bc4-46fa-b98d-702940f56ab4",
   "metadata": {},
   "source": [
    "If we run the command locally, there is no nvidia gpu"
   ]
  },
  {
   "cell_type": "code",
   "execution_count": 10,
   "id": "3b0fdca8-eaf8-46f2-b172-e2226a6e6e61",
   "metadata": {},
   "outputs": [
    {
     "name": "stdout",
     "output_type": "stream",
     "text": [
      "/bin/sh: nvidia-smi: command not found\n",
      "\n"
     ]
    }
   ],
   "source": [
    "print(inspect_gpu().stderr.decode('utf-8'))"
   ]
  },
  {
   "cell_type": "markdown",
   "id": "26db90ca-9802-475c-a847-4da4df476bd5",
   "metadata": {},
   "source": [
    "Let's submit the job to GPU node"
   ]
  },
  {
   "cell_type": "code",
   "execution_count": 11,
   "id": "dc5a3e24-6c74-43ed-892b-bed444b0ec1c",
   "metadata": {},
   "outputs": [],
   "source": [
    "future = client.submit(inspect_gpu)"
   ]
  },
  {
   "cell_type": "markdown",
   "id": "77b088a7-2897-4537-ad61-7f5e0dbf760f",
   "metadata": {},
   "source": [
    "You will see that we get exactly what we requested, the H100 GPU"
   ]
  },
  {
   "cell_type": "code",
   "execution_count": 13,
   "id": "03e654cf-95f8-4991-b060-7e1f9e2ef9b6",
   "metadata": {},
   "outputs": [
    {
     "name": "stdout",
     "output_type": "stream",
     "text": [
      "Tue Mar 18 19:07:24 2025       \n",
      "+---------------------------------------------------------------------------------------+\n",
      "| NVIDIA-SMI 535.216.01             Driver Version: 535.216.01   CUDA Version: 12.2     |\n",
      "|-----------------------------------------+----------------------+----------------------+\n",
      "| GPU  Name                 Persistence-M | Bus-Id        Disp.A | Volatile Uncorr. ECC |\n",
      "| Fan  Temp   Perf          Pwr:Usage/Cap |         Memory-Usage | GPU-Util  Compute M. |\n",
      "|                                         |                      |               MIG M. |\n",
      "|=========================================+======================+======================|\n",
      "|   0  NVIDIA H100 NVL                On  | 00000000:CA:00.0 Off |                   On |\n",
      "| N/A   32C    P0              62W / 400W |     76MiB / 95830MiB |     N/A      Default |\n",
      "|                                         |                      |              Enabled |\n",
      "+-----------------------------------------+----------------------+----------------------+\n",
      "\n",
      "+---------------------------------------------------------------------------------------+\n",
      "| MIG devices:                                                                          |\n",
      "+------------------+--------------------------------+-----------+-----------------------+\n",
      "| GPU  GI  CI  MIG |                   Memory-Usage |        Vol|      Shared           |\n",
      "|      ID  ID  Dev |                     BAR1-Usage | SM     Unc| CE ENC DEC OFA JPG    |\n",
      "|                  |                                |        ECC|                       |\n",
      "|==================+================================+===========+=======================|\n",
      "|  0   13   0   0  |              12MiB / 11008MiB  | 16      0 |  1   0    1    0    1 |\n",
      "|                  |               0MiB / 16383MiB  |           |                       |\n",
      "+------------------+--------------------------------+-----------+-----------------------+\n",
      "                                                                                         \n",
      "+---------------------------------------------------------------------------------------+\n",
      "| Processes:                                                                            |\n",
      "|  GPU   GI   CI        PID   Type   Process name                            GPU Memory |\n",
      "|        ID   ID                                                             Usage      |\n",
      "|=======================================================================================|\n",
      "|  No running processes found                                                           |\n",
      "+---------------------------------------------------------------------------------------+\n",
      "\n"
     ]
    }
   ],
   "source": [
    "print(future.result().stdout.decode('utf-8'))"
   ]
  },
  {
   "cell_type": "markdown",
   "id": "4e6272d4-5f7f-4986-bf7a-be425c7359b8",
   "metadata": {},
   "source": [
    "To run a resnet"
   ]
  },
  {
   "cell_type": "code",
   "execution_count": 15,
   "id": "88502874-5e8d-42b5-9b5f-b51837c620ed",
   "metadata": {},
   "outputs": [],
   "source": [
    "import timm\n",
    "import torch\n",
    "\n",
    "def run_model():\n",
    "    img = torch.randn(1, 3, 256, 256)\n",
    "    img = img.to('cuda')\n",
    "    model = timm.create_model(\"resnet50\")\n",
    "    model.to('cuda')\n",
    "    return model(img).detach().cpu().numpy()"
   ]
  },
  {
   "cell_type": "markdown",
   "id": "c4782ef4-c0b9-4399-acba-48a6e0e1dcdb",
   "metadata": {},
   "source": [
    "This will failed witout GPU"
   ]
  },
  {
   "cell_type": "code",
   "execution_count": 16,
   "id": "a06ec25c-c4e8-40b1-8a34-f9b33bdfb01a",
   "metadata": {},
   "outputs": [
    {
     "ename": "RuntimeError",
     "evalue": "Found no NVIDIA driver on your system. Please check that you have an NVIDIA GPU and installed a driver from http://www.nvidia.com/Download/index.aspx",
     "output_type": "error",
     "traceback": [
      "\u001b[31m---------------------------------------------------------------------------\u001b[39m",
      "\u001b[31mRuntimeError\u001b[39m                              Traceback (most recent call last)",
      "\u001b[36mCell\u001b[39m\u001b[36m \u001b[39m\u001b[32mIn[16]\u001b[39m\u001b[32m, line 1\u001b[39m\n\u001b[32m----> \u001b[39m\u001b[32m1\u001b[39m \u001b[43mrun_model\u001b[49m\u001b[43m(\u001b[49m\u001b[43m)\u001b[49m\n",
      "\u001b[36mCell\u001b[39m\u001b[36m \u001b[39m\u001b[32mIn[15]\u001b[39m\u001b[32m, line 6\u001b[39m, in \u001b[36mrun_model\u001b[39m\u001b[34m()\u001b[39m\n\u001b[32m      4\u001b[39m \u001b[38;5;28;01mdef\u001b[39;00m\u001b[38;5;250m \u001b[39m\u001b[34mrun_model\u001b[39m():\n\u001b[32m      5\u001b[39m     img = torch.randn(\u001b[32m1\u001b[39m, \u001b[32m3\u001b[39m, \u001b[32m256\u001b[39m, \u001b[32m256\u001b[39m)\n\u001b[32m----> \u001b[39m\u001b[32m6\u001b[39m     img = \u001b[43mimg\u001b[49m\u001b[43m.\u001b[49m\u001b[43mto\u001b[49m\u001b[43m(\u001b[49m\u001b[33;43m'\u001b[39;49m\u001b[33;43mcuda\u001b[39;49m\u001b[33;43m'\u001b[39;49m\u001b[43m)\u001b[49m\n\u001b[32m      7\u001b[39m     model = timm.create_model(\u001b[33m\"\u001b[39m\u001b[33mresnet50\u001b[39m\u001b[33m\"\u001b[39m)\n\u001b[32m      8\u001b[39m     model.to(\u001b[33m'\u001b[39m\u001b[33mcuda\u001b[39m\u001b[33m'\u001b[39m)\n",
      "\u001b[36mFile \u001b[39m\u001b[32m~/dask-cluster/.venv/lib/python3.12/site-packages/torch/cuda/__init__.py:319\u001b[39m, in \u001b[36m_lazy_init\u001b[39m\u001b[34m()\u001b[39m\n\u001b[32m    317\u001b[39m \u001b[38;5;28;01mif\u001b[39;00m \u001b[33m\"\u001b[39m\u001b[33mCUDA_MODULE_LOADING\u001b[39m\u001b[33m\"\u001b[39m \u001b[38;5;129;01mnot\u001b[39;00m \u001b[38;5;129;01min\u001b[39;00m os.environ:\n\u001b[32m    318\u001b[39m     os.environ[\u001b[33m\"\u001b[39m\u001b[33mCUDA_MODULE_LOADING\u001b[39m\u001b[33m\"\u001b[39m] = \u001b[33m\"\u001b[39m\u001b[33mLAZY\u001b[39m\u001b[33m\"\u001b[39m\n\u001b[32m--> \u001b[39m\u001b[32m319\u001b[39m \u001b[43mtorch\u001b[49m\u001b[43m.\u001b[49m\u001b[43m_C\u001b[49m\u001b[43m.\u001b[49m\u001b[43m_cuda_init\u001b[49m\u001b[43m(\u001b[49m\u001b[43m)\u001b[49m\n\u001b[32m    320\u001b[39m \u001b[38;5;66;03m# Some of the queued calls may reentrantly call _lazy_init();\u001b[39;00m\n\u001b[32m    321\u001b[39m \u001b[38;5;66;03m# we need to just return without initializing in that case.\u001b[39;00m\n\u001b[32m    322\u001b[39m \u001b[38;5;66;03m# However, we must not let any *other* threads in!\u001b[39;00m\n\u001b[32m    323\u001b[39m _tls.is_initializing = \u001b[38;5;28;01mTrue\u001b[39;00m\n",
      "\u001b[31mRuntimeError\u001b[39m: Found no NVIDIA driver on your system. Please check that you have an NVIDIA GPU and installed a driver from http://www.nvidia.com/Download/index.aspx"
     ]
    }
   ],
   "source": [
    "run_model()"
   ]
  },
  {
   "cell_type": "markdown",
   "id": "da49e692-5ccc-48f4-b26f-2b2909b871a8",
   "metadata": {},
   "source": [
    "The submission to a GPU node will work"
   ]
  },
  {
   "cell_type": "code",
   "execution_count": 18,
   "id": "a8983dc0-7cc0-463b-a814-cd43fab839aa",
   "metadata": {},
   "outputs": [
    {
     "data": {
      "text/plain": [
       "(1, 1000)"
      ]
     },
     "execution_count": 18,
     "metadata": {},
     "output_type": "execute_result"
    }
   ],
   "source": [
    "future = client.submit(run_model)\n",
    "future.result().shape"
   ]
  }
 ],
 "metadata": {
  "kernelspec": {
   "display_name": "Python 3 (ipykernel)",
   "language": "python",
   "name": "python3"
  },
  "language_info": {
   "codemirror_mode": {
    "name": "ipython",
    "version": 3
   },
   "file_extension": ".py",
   "mimetype": "text/x-python",
   "name": "python",
   "nbconvert_exporter": "python",
   "pygments_lexer": "ipython3",
   "version": "3.12.9"
  }
 },
 "nbformat": 4,
 "nbformat_minor": 5
}
